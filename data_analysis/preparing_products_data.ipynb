{
 "cells": [
  {
   "cell_type": "code",
   "execution_count": null,
   "metadata": {},
   "outputs": [],
   "source": [
    "import os\n",
    "from pathlib import Path\n",
    "home = os.getcwd()\n",
    "current = home\n",
    "while 'data' not in os.listdir(current):\n",
    "    current = Path(current).parent\n",
    "DATA_FOLDER = os.path.join(current, 'data')"
   ]
  },
  {
   "cell_type": "markdown",
   "metadata": {},
   "source": [
    "# Exploring the products data"
   ]
  },
  {
   "cell_type": "code",
   "execution_count": null,
   "metadata": {},
   "outputs": [],
   "source": [
    "import pandas as pd\n",
    "products_csv = os.path.join(DATA_FOLDER, 'olist_products_dataset.csv') \n",
    "df = pd.read_csv(products_csv)\n",
    "print(df.head())\n",
    "# category, description length, photo_quality and weight\n",
    "df.drop(columns=[\"product_length_cm\", \"product_height_cm\", \"product_width_cm\"], inplace=True)"
   ]
  },
  {
   "cell_type": "code",
   "execution_count": null,
   "metadata": {},
   "outputs": [],
   "source": [
    "# since we have a relatively large amount of data we can actually drop any nan values\n",
    "print(len(df))\n",
    "print(len(df.dropna())) # we lose aounrd 600 samples; around 2% we can live with that\n",
    "df = df.dropna()"
   ]
  },
  {
   "cell_type": "code",
   "execution_count": null,
   "metadata": {},
   "outputs": [],
   "source": [
    "import matplotlib.pyplot as plt \n",
    "# map each category by its name\n",
    "cat_freq = df['product_category_name'].value_counts()\n",
    "categories = sorted(df['product_category_name'].unique(), key=lambda x: cat_freq[x])\n",
    "categories_map = {c: i for i, c in enumerate(categories)}\n",
    "df_plot = df.copy()\n",
    "df_plot['product_category_name'] = df['product_category_name'].map(categories_map)"
   ]
  },
  {
   "cell_type": "code",
   "execution_count": null,
   "metadata": {},
   "outputs": [],
   "source": [
    "df['product_category_name']"
   ]
  },
  {
   "cell_type": "code",
   "execution_count": null,
   "metadata": {},
   "outputs": [],
   "source": [
    "df_plot['product_category_name'].hist(bins=range(0, len(categories), 3), figsize=(15, 8))\n",
    "plt.xticks(ticks=list(range(0, len(categories), 3)), rotation=90)\n",
    "plt.xlabel('categories: mapped to numerical values')\n",
    "plt.ylabel('frequencies')\n",
    "plt.title('frequencies of product categories')\n",
    "plt.show()\n",
    "del(df_plot)"
   ]
  },
  {
   "cell_type": "markdown",
   "metadata": {},
   "source": [
    "We can see that the distribution of product categories is quite skewed as few categories constitute the majority of the products sold on the platform. For further analysis, we will consider only categories with at least 500 products (500 is more than enough to possibly apply Central Limit Theorem)"
   ]
  },
  {
   "cell_type": "code",
   "execution_count": null,
   "metadata": {},
   "outputs": [],
   "source": [
    "product_categories = list(cat_freq[cat_freq > 500].index)\n",
    "df = df[df['product_category_name'].isin(product_categories)]\n",
    "len(df)"
   ]
  },
  {
   "cell_type": "code",
   "execution_count": null,
   "metadata": {},
   "outputs": [],
   "source": [
    "product_categories"
   ]
  },
  {
   "cell_type": "markdown",
   "metadata": {},
   "source": [
    "it seems that we kept (27007 / 32951) $\\approx 82\\%$ of the initial data. Great start !!\n",
    "\n",
    "Time to translate the categories to English"
   ]
  },
  {
   "cell_type": "code",
   "execution_count": null,
   "metadata": {},
   "outputs": [],
   "source": [
    "# let's start with data preparation\n",
    "from google_trans_new import google_translator  \n",
    "def translate_text(translator_obj: google_translator, text, source_lang, target_lang) -> str:\n",
    "    if translator_obj is None:\n",
    "        translator_obj = google_translator()\n",
    "    res = translator_obj.translate(text, lang_tgt=target_lang, lang_src=source_lang)\n",
    "    return res.text\n"
   ]
  },
  {
   "cell_type": "code",
   "execution_count": null,
   "metadata": {},
   "outputs": [],
   "source": [
    "# let's translate the categories from portogues to English \n",
    "from deep_translator import GoogleTranslator\n",
    "import re\n",
    "translator = GoogleTranslator(source='pt', target='en')\n",
    "categories_english = [translator.translate(text=re.sub('_', ' ', t)) for t in product_categories]"
   ]
  },
  {
   "cell_type": "code",
   "execution_count": null,
   "metadata": {},
   "outputs": [],
   "source": [
    "# save the translations\n",
    "df['product_category_name'] = df['product_category_name'].map(dict([(pt, en) for pt, en in zip(product_categories, categories_english)]))\n",
    "prepared_data_folder = os.path.join(Path(DATA_FOLDER).parent, 'data_prepared') \n",
    "if not os.path.isdir(prepared_data_folder):\n",
    "    os.makedirs(prepared_data_folder)\n",
    "df.to_csv(prepared_data_folder, 'products_prepared.csv')"
   ]
  }
 ],
 "metadata": {
  "kernelspec": {
   "display_name": "env",
   "language": "python",
   "name": "python3"
  },
  "language_info": {
   "codemirror_mode": {
    "name": "ipython",
    "version": 3
   },
   "file_extension": ".py",
   "mimetype": "text/x-python",
   "name": "python",
   "nbconvert_exporter": "python",
   "pygments_lexer": "ipython3",
   "version": "3.10.9"
  }
 },
 "nbformat": 4,
 "nbformat_minor": 2
}
