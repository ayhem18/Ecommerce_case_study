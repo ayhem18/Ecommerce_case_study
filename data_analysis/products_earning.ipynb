{
 "cells": [
  {
   "cell_type": "code",
   "execution_count": 31,
   "metadata": {},
   "outputs": [],
   "source": [
    "import os\n",
    "from pathlib import Path\n",
    "home = os.getcwd()\n",
    "current = home\n",
    "while 'data' not in os.listdir(current):\n",
    "    current = Path(current).parent\n",
    "DATA_FOLDER = os.path.join(current, 'data')\n",
    "PREPARED_DATA_FOLDER = os.path.join(current, 'prepared_data')"
   ]
  },
  {
   "cell_type": "code",
   "execution_count": 32,
   "metadata": {},
   "outputs": [
    {
     "data": {
      "text/html": [
       "<div>\n",
       "<style scoped>\n",
       "    .dataframe tbody tr th:only-of-type {\n",
       "        vertical-align: middle;\n",
       "    }\n",
       "\n",
       "    .dataframe tbody tr th {\n",
       "        vertical-align: top;\n",
       "    }\n",
       "\n",
       "    .dataframe thead th {\n",
       "        text-align: right;\n",
       "    }\n",
       "</style>\n",
       "<table border=\"1\" class=\"dataframe\">\n",
       "  <thead>\n",
       "    <tr style=\"text-align: right;\">\n",
       "      <th></th>\n",
       "      <th>order_id</th>\n",
       "      <th>order_item_id</th>\n",
       "      <th>product_id</th>\n",
       "      <th>seller_id</th>\n",
       "      <th>shipping_limit_date</th>\n",
       "      <th>price</th>\n",
       "      <th>freight_value</th>\n",
       "    </tr>\n",
       "  </thead>\n",
       "  <tbody>\n",
       "    <tr>\n",
       "      <th>0</th>\n",
       "      <td>00010242fe8c5a6d1ba2dd792cb16214</td>\n",
       "      <td>1</td>\n",
       "      <td>4244733e06e7ecb4970a6e2683c13e61</td>\n",
       "      <td>48436dade18ac8b2bce089ec2a041202</td>\n",
       "      <td>2017-09-19 09:45:35</td>\n",
       "      <td>58.90</td>\n",
       "      <td>13.29</td>\n",
       "    </tr>\n",
       "    <tr>\n",
       "      <th>1</th>\n",
       "      <td>00018f77f2f0320c557190d7a144bdd3</td>\n",
       "      <td>1</td>\n",
       "      <td>e5f2d52b802189ee658865ca93d83a8f</td>\n",
       "      <td>dd7ddc04e1b6c2c614352b383efe2d36</td>\n",
       "      <td>2017-05-03 11:05:13</td>\n",
       "      <td>239.90</td>\n",
       "      <td>19.93</td>\n",
       "    </tr>\n",
       "    <tr>\n",
       "      <th>2</th>\n",
       "      <td>000229ec398224ef6ca0657da4fc703e</td>\n",
       "      <td>1</td>\n",
       "      <td>c777355d18b72b67abbeef9df44fd0fd</td>\n",
       "      <td>5b51032eddd242adc84c38acab88f23d</td>\n",
       "      <td>2018-01-18 14:48:30</td>\n",
       "      <td>199.00</td>\n",
       "      <td>17.87</td>\n",
       "    </tr>\n",
       "    <tr>\n",
       "      <th>3</th>\n",
       "      <td>00024acbcdf0a6daa1e931b038114c75</td>\n",
       "      <td>1</td>\n",
       "      <td>7634da152a4610f1595efa32f14722fc</td>\n",
       "      <td>9d7a1d34a5052409006425275ba1c2b4</td>\n",
       "      <td>2018-08-15 10:10:18</td>\n",
       "      <td>12.99</td>\n",
       "      <td>12.79</td>\n",
       "    </tr>\n",
       "    <tr>\n",
       "      <th>4</th>\n",
       "      <td>00042b26cf59d7ce69dfabb4e55b4fd9</td>\n",
       "      <td>1</td>\n",
       "      <td>ac6c3623068f30de03045865e4e10089</td>\n",
       "      <td>df560393f3a51e74553ab94004ba5c87</td>\n",
       "      <td>2017-02-13 13:57:51</td>\n",
       "      <td>199.90</td>\n",
       "      <td>18.14</td>\n",
       "    </tr>\n",
       "  </tbody>\n",
       "</table>\n",
       "</div>"
      ],
      "text/plain": [
       "                           order_id  order_item_id  \\\n",
       "0  00010242fe8c5a6d1ba2dd792cb16214              1   \n",
       "1  00018f77f2f0320c557190d7a144bdd3              1   \n",
       "2  000229ec398224ef6ca0657da4fc703e              1   \n",
       "3  00024acbcdf0a6daa1e931b038114c75              1   \n",
       "4  00042b26cf59d7ce69dfabb4e55b4fd9              1   \n",
       "\n",
       "                         product_id                         seller_id  \\\n",
       "0  4244733e06e7ecb4970a6e2683c13e61  48436dade18ac8b2bce089ec2a041202   \n",
       "1  e5f2d52b802189ee658865ca93d83a8f  dd7ddc04e1b6c2c614352b383efe2d36   \n",
       "2  c777355d18b72b67abbeef9df44fd0fd  5b51032eddd242adc84c38acab88f23d   \n",
       "3  7634da152a4610f1595efa32f14722fc  9d7a1d34a5052409006425275ba1c2b4   \n",
       "4  ac6c3623068f30de03045865e4e10089  df560393f3a51e74553ab94004ba5c87   \n",
       "\n",
       "   shipping_limit_date   price  freight_value  \n",
       "0  2017-09-19 09:45:35   58.90          13.29  \n",
       "1  2017-05-03 11:05:13  239.90          19.93  \n",
       "2  2018-01-18 14:48:30  199.00          17.87  \n",
       "3  2018-08-15 10:10:18   12.99          12.79  \n",
       "4  2017-02-13 13:57:51  199.90          18.14  "
      ]
     },
     "execution_count": 32,
     "metadata": {},
     "output_type": "execute_result"
    }
   ],
   "source": [
    "# let's try to understand which products bring the most profit\n",
    "import pandas as pd\n",
    "item_order_csv = os.path.join(DATA_FOLDER, 'olist_order_items_dataset.csv')\n",
    "order_items = pd.read_csv(item_order_csv)\n",
    "order_items.head()"
   ]
  },
  {
   "cell_type": "code",
   "execution_count": 33,
   "metadata": {},
   "outputs": [],
   "source": [
    "import numpy as np\n",
    "products_count = order_items.groupby('product_id')['price'].agg(['count']).sort_values('count', ascending=False).reset_index().reset_index()\n",
    "# products_count.head()\n",
    "orders = pd.merge(left=order_items, right=products_count, on='product_id', how='inner').sort_values('count', ascending=False)"
   ]
  },
  {
   "cell_type": "code",
   "execution_count": 34,
   "metadata": {},
   "outputs": [
    {
     "data": {
      "text/html": [
       "<div>\n",
       "<style scoped>\n",
       "    .dataframe tbody tr th:only-of-type {\n",
       "        vertical-align: middle;\n",
       "    }\n",
       "\n",
       "    .dataframe tbody tr th {\n",
       "        vertical-align: top;\n",
       "    }\n",
       "\n",
       "    .dataframe thead th {\n",
       "        text-align: right;\n",
       "    }\n",
       "</style>\n",
       "<table border=\"1\" class=\"dataframe\">\n",
       "  <thead>\n",
       "    <tr style=\"text-align: right;\">\n",
       "      <th></th>\n",
       "      <th>order_id</th>\n",
       "      <th>order_item_id</th>\n",
       "      <th>product_id</th>\n",
       "      <th>seller_id</th>\n",
       "      <th>shipping_limit_date</th>\n",
       "      <th>price</th>\n",
       "      <th>freight_value</th>\n",
       "      <th>index</th>\n",
       "      <th>count</th>\n",
       "    </tr>\n",
       "  </thead>\n",
       "  <tbody>\n",
       "    <tr>\n",
       "      <th>44648</th>\n",
       "      <td>657c1689361cce2eeaabea76ced5e30f</td>\n",
       "      <td>1</td>\n",
       "      <td>aca2eb7d00ea1a7b8ebd4e68314663af</td>\n",
       "      <td>955fee9216a65b617aa5c0531780ce60</td>\n",
       "      <td>2017-12-21 02:12:21</td>\n",
       "      <td>75.0</td>\n",
       "      <td>13.08</td>\n",
       "      <td>0</td>\n",
       "      <td>527</td>\n",
       "    </tr>\n",
       "    <tr>\n",
       "      <th>78215</th>\n",
       "      <td>b20541ce2d6f4c7d3b204035f09ea681</td>\n",
       "      <td>1</td>\n",
       "      <td>aca2eb7d00ea1a7b8ebd4e68314663af</td>\n",
       "      <td>955fee9216a65b617aa5c0531780ce60</td>\n",
       "      <td>2018-05-09 04:30:36</td>\n",
       "      <td>69.9</td>\n",
       "      <td>12.43</td>\n",
       "      <td>0</td>\n",
       "      <td>527</td>\n",
       "    </tr>\n",
       "    <tr>\n",
       "      <th>72419</th>\n",
       "      <td>a52c52c656d3b3ef3ec72fcdc13c714f</td>\n",
       "      <td>1</td>\n",
       "      <td>aca2eb7d00ea1a7b8ebd4e68314663af</td>\n",
       "      <td>955fee9216a65b617aa5c0531780ce60</td>\n",
       "      <td>2018-04-26 12:31:56</td>\n",
       "      <td>69.9</td>\n",
       "      <td>0.00</td>\n",
       "      <td>0</td>\n",
       "      <td>527</td>\n",
       "    </tr>\n",
       "    <tr>\n",
       "      <th>75915</th>\n",
       "      <td>acdb814f2758bfa4cf10c3ce5cb09c81</td>\n",
       "      <td>1</td>\n",
       "      <td>aca2eb7d00ea1a7b8ebd4e68314663af</td>\n",
       "      <td>955fee9216a65b617aa5c0531780ce60</td>\n",
       "      <td>2018-03-12 22:48:55</td>\n",
       "      <td>69.9</td>\n",
       "      <td>21.57</td>\n",
       "      <td>0</td>\n",
       "      <td>527</td>\n",
       "    </tr>\n",
       "    <tr>\n",
       "      <th>68781</th>\n",
       "      <td>9d241238f3827aced623154ace551dd9</td>\n",
       "      <td>1</td>\n",
       "      <td>aca2eb7d00ea1a7b8ebd4e68314663af</td>\n",
       "      <td>955fee9216a65b617aa5c0531780ce60</td>\n",
       "      <td>2018-03-16 03:48:52</td>\n",
       "      <td>69.9</td>\n",
       "      <td>12.43</td>\n",
       "      <td>0</td>\n",
       "      <td>527</td>\n",
       "    </tr>\n",
       "  </tbody>\n",
       "</table>\n",
       "</div>"
      ],
      "text/plain": [
       "                               order_id  order_item_id  \\\n",
       "44648  657c1689361cce2eeaabea76ced5e30f              1   \n",
       "78215  b20541ce2d6f4c7d3b204035f09ea681              1   \n",
       "72419  a52c52c656d3b3ef3ec72fcdc13c714f              1   \n",
       "75915  acdb814f2758bfa4cf10c3ce5cb09c81              1   \n",
       "68781  9d241238f3827aced623154ace551dd9              1   \n",
       "\n",
       "                             product_id                         seller_id  \\\n",
       "44648  aca2eb7d00ea1a7b8ebd4e68314663af  955fee9216a65b617aa5c0531780ce60   \n",
       "78215  aca2eb7d00ea1a7b8ebd4e68314663af  955fee9216a65b617aa5c0531780ce60   \n",
       "72419  aca2eb7d00ea1a7b8ebd4e68314663af  955fee9216a65b617aa5c0531780ce60   \n",
       "75915  aca2eb7d00ea1a7b8ebd4e68314663af  955fee9216a65b617aa5c0531780ce60   \n",
       "68781  aca2eb7d00ea1a7b8ebd4e68314663af  955fee9216a65b617aa5c0531780ce60   \n",
       "\n",
       "       shipping_limit_date  price  freight_value  index  count  \n",
       "44648  2017-12-21 02:12:21   75.0          13.08      0    527  \n",
       "78215  2018-05-09 04:30:36   69.9          12.43      0    527  \n",
       "72419  2018-04-26 12:31:56   69.9           0.00      0    527  \n",
       "75915  2018-03-12 22:48:55   69.9          21.57      0    527  \n",
       "68781  2018-03-16 03:48:52   69.9          12.43      0    527  "
      ]
     },
     "execution_count": 34,
     "metadata": {},
     "output_type": "execute_result"
    }
   ],
   "source": [
    "orders.head()"
   ]
  },
  {
   "cell_type": "code",
   "execution_count": 35,
   "metadata": {},
   "outputs": [
    {
     "data": {
      "text/plain": [
       "(111, 113)"
      ]
     },
     "execution_count": 35,
     "metadata": {},
     "output_type": "execute_result"
    }
   ],
   "source": [
    "top_products = orders[orders['index'] < 50]\n",
    "top_products[top_products['index'] == 49]['count'].min(), top_products[top_products['index'] == 48]['count'].min(), "
   ]
  },
  {
   "cell_type": "code",
   "execution_count": 36,
   "metadata": {},
   "outputs": [
    {
     "data": {
      "image/png": "[encoded data removed]",
      "text/plain": [
       "<Figure size 1500x1000 with 1 Axes>"
      ]
     },
     "metadata": {},
     "output_type": "display_data"
    }
   ],
   "source": [
    "import matplotlib.pyplot as plt\n",
    "plt.figure(figsize=(15, 10))\n",
    "# let's build a smart cdf\n",
    "from statsmodels.distributions.empirical_distribution import ECDF as smart_cdf\n",
    "x = orders['index']\n",
    "emperical_cdf = smart_cdf(x)\n",
    "\n",
    "# let's take a look at this \n",
    "sample = np.linspace(0, x.max(), 21)\n",
    "plt.plot(sample, emperical_cdf(sample))\n",
    "\n",
    "# let's consider the top 1% , 5% and 10% of the products respectively\n",
    "qx = np.quantile(np.unique(x), [0.01, 0.05, 0.1]) \n",
    "qy = emperical_cdf([int(x) for x in qx])\n",
    "\n",
    "# let's plot them\n",
    "for x, y, q, color in zip(qx, qy, [0.01, 0.05, 0.1], ['r', 'b', 'g']):\n",
    "    plt.axvline(x, ymax=y, color='c', label=f'{100 * q}-th quantile', c=color, linestyle='--')\n",
    "\n",
    "plt.xticks(sample, rotation=90)\n",
    "plt.yticks(np.linspace(0, 1, 21))\n",
    "plt.ylabel('the accumulative distribution')\n",
    "plt.xlabel('the index of the product by number of purchases')\n",
    "plt.show()\n"
   ]
  },
  {
   "cell_type": "markdown",
   "metadata": {},
   "source": [
    "As we can see the 1% most popular products occupy around 20% of the market share and the top $5\\%$ occupy around 40%"
   ]
  },
  {
   "cell_type": "code",
   "execution_count": 37,
   "metadata": {},
   "outputs": [
    {
     "data": {
      "text/plain": [
       "24916"
      ]
     },
     "execution_count": 37,
     "metadata": {},
     "output_type": "execute_result"
    }
   ],
   "source": [
    "top_products = orders[orders['index'] <= qx[0]]\n",
    "len(top_products)"
   ]
  },
  {
   "cell_type": "markdown",
   "metadata": {},
   "source": [
    "# Number of pictures and product popularity ?\n",
    "Can we find enough statistical evidence to determine the significance of image quality and the length of the description on the popularity of the product ?"
   ]
  },
  {
   "cell_type": "code",
   "execution_count": 41,
   "metadata": {},
   "outputs": [
    {
     "data": {
      "text/html": [
       "<div>\n",
       "<style scoped>\n",
       "    .dataframe tbody tr th:only-of-type {\n",
       "        vertical-align: middle;\n",
       "    }\n",
       "\n",
       "    .dataframe tbody tr th {\n",
       "        vertical-align: top;\n",
       "    }\n",
       "\n",
       "    .dataframe thead th {\n",
       "        text-align: right;\n",
       "    }\n",
       "</style>\n",
       "<table border=\"1\" class=\"dataframe\">\n",
       "  <thead>\n",
       "    <tr style=\"text-align: right;\">\n",
       "      <th></th>\n",
       "      <th>product_id</th>\n",
       "      <th>product_category_name</th>\n",
       "      <th>product_name_lenght</th>\n",
       "      <th>product_description_lenght</th>\n",
       "      <th>product_photos_qty</th>\n",
       "      <th>product_weight_g</th>\n",
       "      <th>count</th>\n",
       "    </tr>\n",
       "  </thead>\n",
       "  <tbody>\n",
       "    <tr>\n",
       "      <th>0</th>\n",
       "      <td>5f504b3a1c75b73d6151be81eb05bdc9</td>\n",
       "      <td>cool_stuff</td>\n",
       "      <td>38.0</td>\n",
       "      <td>1176.0</td>\n",
       "      <td>3.0</td>\n",
       "      <td>15350.0</td>\n",
       "      <td>63</td>\n",
       "    </tr>\n",
       "    <tr>\n",
       "      <th>1</th>\n",
       "      <td>bbaef2eadf31fe3ea6702077398be06c</td>\n",
       "      <td>perfumaria</td>\n",
       "      <td>45.0</td>\n",
       "      <td>1003.0</td>\n",
       "      <td>2.0</td>\n",
       "      <td>400.0</td>\n",
       "      <td>65</td>\n",
       "    </tr>\n",
       "    <tr>\n",
       "      <th>2</th>\n",
       "      <td>c6336fa91fbd87c359e44f5dca5a90ed</td>\n",
       "      <td>esporte_lazer</td>\n",
       "      <td>39.0</td>\n",
       "      <td>772.0</td>\n",
       "      <td>1.0</td>\n",
       "      <td>150.0</td>\n",
       "      <td>94</td>\n",
       "    </tr>\n",
       "    <tr>\n",
       "      <th>3</th>\n",
       "      <td>593236d0ff46b4299b4787fb8d43f7f0</td>\n",
       "      <td>industria_comercio_e_negocios</td>\n",
       "      <td>44.0</td>\n",
       "      <td>1396.0</td>\n",
       "      <td>2.0</td>\n",
       "      <td>7225.0</td>\n",
       "      <td>37</td>\n",
       "    </tr>\n",
       "    <tr>\n",
       "      <th>4</th>\n",
       "      <td>386486367c1f9d4f587a8864ccb6902b</td>\n",
       "      <td>cama_mesa_banho</td>\n",
       "      <td>54.0</td>\n",
       "      <td>120.0</td>\n",
       "      <td>1.0</td>\n",
       "      <td>835.0</td>\n",
       "      <td>55</td>\n",
       "    </tr>\n",
       "  </tbody>\n",
       "</table>\n",
       "</div>"
      ],
      "text/plain": [
       "                         product_id          product_category_name  \\\n",
       "0  5f504b3a1c75b73d6151be81eb05bdc9                     cool_stuff   \n",
       "1  bbaef2eadf31fe3ea6702077398be06c                     perfumaria   \n",
       "2  c6336fa91fbd87c359e44f5dca5a90ed                  esporte_lazer   \n",
       "3  593236d0ff46b4299b4787fb8d43f7f0  industria_comercio_e_negocios   \n",
       "4  386486367c1f9d4f587a8864ccb6902b                cama_mesa_banho   \n",
       "\n",
       "   product_name_lenght  product_description_lenght  product_photos_qty  \\\n",
       "0                 38.0                      1176.0                 3.0   \n",
       "1                 45.0                      1003.0                 2.0   \n",
       "2                 39.0                       772.0                 1.0   \n",
       "3                 44.0                      1396.0                 2.0   \n",
       "4                 54.0                       120.0                 1.0   \n",
       "\n",
       "   product_weight_g  count  \n",
       "0           15350.0     63  \n",
       "1             400.0     65  \n",
       "2             150.0     94  \n",
       "3            7225.0     37  \n",
       "4             835.0     55  "
      ]
     },
     "execution_count": 41,
     "metadata": {},
     "output_type": "execute_result"
    }
   ],
   "source": [
    "# let's see how things go !!\n",
    "products = pd.read_csv(os.path.join(DATA_FOLDER, 'olist_products_dataset.csv'))\n",
    "df = products.copy()\n",
    "df.drop(columns=[\"product_length_cm\", \"product_height_cm\", \"product_width_cm\"], inplace=True)\n",
    "ps = top_products.groupby('product_id')['price'].agg(['count']).sort_values(by='count', ascending=False)\n",
    "pdf = pd.merge(left=df, right=ps, how='inner', on='product_id')\n",
    "pdf.head()"
   ]
  },
  {
   "cell_type": "code",
   "execution_count": 42,
   "metadata": {},
   "outputs": [],
   "source": [
    "# let's try to understand which characteristics affect the product the most: number of photos, description length ? \n",
    "pdf['product_photos_qty'].value_counts()\n",
    "# let's see if the number of photos make a difference \n",
    "pdf['multi_photo'] = (pdf['product_photos_qty'] > 2).astype(int)\n",
    "p0, p1 = pdf[pdf['multi_photo'] == 0], pdf[pdf['multi_photo'] == 1]"
   ]
  },
  {
   "cell_type": "code",
   "execution_count": 47,
   "metadata": {},
   "outputs": [
    {
     "data": {
      "text/html": [
       "<div>\n",
       "<style scoped>\n",
       "    .dataframe tbody tr th:only-of-type {\n",
       "        vertical-align: middle;\n",
       "    }\n",
       "\n",
       "    .dataframe tbody tr th {\n",
       "        vertical-align: top;\n",
       "    }\n",
       "\n",
       "    .dataframe thead th {\n",
       "        text-align: right;\n",
       "    }\n",
       "</style>\n",
       "<table border=\"1\" class=\"dataframe\">\n",
       "  <thead>\n",
       "    <tr style=\"text-align: right;\">\n",
       "      <th></th>\n",
       "      <th>product_id</th>\n",
       "      <th>product_category_name</th>\n",
       "      <th>product_name_lenght</th>\n",
       "      <th>product_description_lenght</th>\n",
       "      <th>product_photos_qty</th>\n",
       "      <th>product_weight_g</th>\n",
       "      <th>count</th>\n",
       "      <th>multi_photo</th>\n",
       "    </tr>\n",
       "  </thead>\n",
       "  <tbody>\n",
       "    <tr>\n",
       "      <th>63</th>\n",
       "      <td>6bbe55cf8f85c87b6eebb775a53402f4</td>\n",
       "      <td>tablets_impressao_imagem</td>\n",
       "      <td>54.0</td>\n",
       "      <td>512.0</td>\n",
       "      <td>1.0</td>\n",
       "      <td>283.0</td>\n",
       "      <td>33</td>\n",
       "      <td>0</td>\n",
       "    </tr>\n",
       "    <tr>\n",
       "      <th>266</th>\n",
       "      <td>7d854ab97c64ef9df2bbfaf332765786</td>\n",
       "      <td>cool_stuff</td>\n",
       "      <td>44.0</td>\n",
       "      <td>598.0</td>\n",
       "      <td>4.0</td>\n",
       "      <td>4100.0</td>\n",
       "      <td>33</td>\n",
       "      <td>1</td>\n",
       "    </tr>\n",
       "    <tr>\n",
       "      <th>94</th>\n",
       "      <td>72d3bf1d3a790f8874096fcf860e3eff</td>\n",
       "      <td>brinquedos</td>\n",
       "      <td>57.0</td>\n",
       "      <td>341.0</td>\n",
       "      <td>2.0</td>\n",
       "      <td>583.0</td>\n",
       "      <td>33</td>\n",
       "      <td>0</td>\n",
       "    </tr>\n",
       "    <tr>\n",
       "      <th>319</th>\n",
       "      <td>05a9dadb8402b6b7ae3dd28f7da187b5</td>\n",
       "      <td>informatica_acessorios</td>\n",
       "      <td>59.0</td>\n",
       "      <td>3314.0</td>\n",
       "      <td>2.0</td>\n",
       "      <td>2950.0</td>\n",
       "      <td>33</td>\n",
       "      <td>0</td>\n",
       "    </tr>\n",
       "    <tr>\n",
       "      <th>144</th>\n",
       "      <td>fe077ec80df6b4ee60bb4498d5ab1962</td>\n",
       "      <td>informatica_acessorios</td>\n",
       "      <td>56.0</td>\n",
       "      <td>195.0</td>\n",
       "      <td>1.0</td>\n",
       "      <td>200.0</td>\n",
       "      <td>33</td>\n",
       "      <td>0</td>\n",
       "    </tr>\n",
       "    <tr>\n",
       "      <th>...</th>\n",
       "      <td>...</td>\n",
       "      <td>...</td>\n",
       "      <td>...</td>\n",
       "      <td>...</td>\n",
       "      <td>...</td>\n",
       "      <td>...</td>\n",
       "      <td>...</td>\n",
       "      <td>...</td>\n",
       "    </tr>\n",
       "    <tr>\n",
       "      <th>42</th>\n",
       "      <td>368c6c730842d78016ad823897a372db</td>\n",
       "      <td>ferramentas_jardim</td>\n",
       "      <td>57.0</td>\n",
       "      <td>366.0</td>\n",
       "      <td>2.0</td>\n",
       "      <td>1650.0</td>\n",
       "      <td>388</td>\n",
       "      <td>0</td>\n",
       "    </tr>\n",
       "    <tr>\n",
       "      <th>299</th>\n",
       "      <td>389d119b48cf3043d311335e499d9c6b</td>\n",
       "      <td>ferramentas_jardim</td>\n",
       "      <td>59.0</td>\n",
       "      <td>341.0</td>\n",
       "      <td>2.0</td>\n",
       "      <td>1750.0</td>\n",
       "      <td>392</td>\n",
       "      <td>0</td>\n",
       "    </tr>\n",
       "    <tr>\n",
       "      <th>134</th>\n",
       "      <td>422879e10f46682990de24d770e7f83d</td>\n",
       "      <td>ferramentas_jardim</td>\n",
       "      <td>56.0</td>\n",
       "      <td>348.0</td>\n",
       "      <td>2.0</td>\n",
       "      <td>1550.0</td>\n",
       "      <td>484</td>\n",
       "      <td>0</td>\n",
       "    </tr>\n",
       "    <tr>\n",
       "      <th>92</th>\n",
       "      <td>99a4788cb24856965c36a24e339b6058</td>\n",
       "      <td>cama_mesa_banho</td>\n",
       "      <td>54.0</td>\n",
       "      <td>245.0</td>\n",
       "      <td>1.0</td>\n",
       "      <td>1383.0</td>\n",
       "      <td>488</td>\n",
       "      <td>0</td>\n",
       "    </tr>\n",
       "    <tr>\n",
       "      <th>125</th>\n",
       "      <td>aca2eb7d00ea1a7b8ebd4e68314663af</td>\n",
       "      <td>moveis_decoracao</td>\n",
       "      <td>44.0</td>\n",
       "      <td>903.0</td>\n",
       "      <td>6.0</td>\n",
       "      <td>2600.0</td>\n",
       "      <td>527</td>\n",
       "      <td>1</td>\n",
       "    </tr>\n",
       "  </tbody>\n",
       "</table>\n",
       "<p>330 rows × 8 columns</p>\n",
       "</div>"
      ],
      "text/plain": [
       "                           product_id     product_category_name  \\\n",
       "63   6bbe55cf8f85c87b6eebb775a53402f4  tablets_impressao_imagem   \n",
       "266  7d854ab97c64ef9df2bbfaf332765786                cool_stuff   \n",
       "94   72d3bf1d3a790f8874096fcf860e3eff                brinquedos   \n",
       "319  05a9dadb8402b6b7ae3dd28f7da187b5    informatica_acessorios   \n",
       "144  fe077ec80df6b4ee60bb4498d5ab1962    informatica_acessorios   \n",
       "..                                ...                       ...   \n",
       "42   368c6c730842d78016ad823897a372db        ferramentas_jardim   \n",
       "299  389d119b48cf3043d311335e499d9c6b        ferramentas_jardim   \n",
       "134  422879e10f46682990de24d770e7f83d        ferramentas_jardim   \n",
       "92   99a4788cb24856965c36a24e339b6058           cama_mesa_banho   \n",
       "125  aca2eb7d00ea1a7b8ebd4e68314663af          moveis_decoracao   \n",
       "\n",
       "     product_name_lenght  product_description_lenght  product_photos_qty  \\\n",
       "63                  54.0                       512.0                 1.0   \n",
       "266                 44.0                       598.0                 4.0   \n",
       "94                  57.0                       341.0                 2.0   \n",
       "319                 59.0                      3314.0                 2.0   \n",
       "144                 56.0                       195.0                 1.0   \n",
       "..                   ...                         ...                 ...   \n",
       "42                  57.0                       366.0                 2.0   \n",
       "299                 59.0                       341.0                 2.0   \n",
       "134                 56.0                       348.0                 2.0   \n",
       "92                  54.0                       245.0                 1.0   \n",
       "125                 44.0                       903.0                 6.0   \n",
       "\n",
       "     product_weight_g  count  multi_photo  \n",
       "63              283.0     33            0  \n",
       "266            4100.0     33            1  \n",
       "94              583.0     33            0  \n",
       "319            2950.0     33            0  \n",
       "144             200.0     33            0  \n",
       "..                ...    ...          ...  \n",
       "42             1650.0    388            0  \n",
       "299            1750.0    392            0  \n",
       "134            1550.0    484            0  \n",
       "92             1383.0    488            0  \n",
       "125            2600.0    527            1  \n",
       "\n",
       "[330 rows x 8 columns]"
      ]
     },
     "execution_count": 47,
     "metadata": {},
     "output_type": "execute_result"
    }
   ],
   "source": [
    "pdf.sort_values('count')"
   ]
  },
  {
   "cell_type": "code",
   "execution_count": 43,
   "metadata": {},
   "outputs": [
    {
     "data": {
      "text/plain": [
       "(237, 93)"
      ]
     },
     "execution_count": 43,
     "metadata": {},
     "output_type": "execute_result"
    }
   ],
   "source": [
    "len(p0), len(p1)"
   ]
  },
  {
   "cell_type": "code",
   "execution_count": 44,
   "metadata": {},
   "outputs": [
    {
     "data": {
      "text/plain": [
       "(array([74., 10.,  5.,  1.,  1.,  1.,  0.,  0.,  0.,  1.]),\n",
       " array([ 33. ,  82.4, 131.8, 181.2, 230.6, 280. , 329.4, 378.8, 428.2,\n",
       "        477.6, 527. ]),\n",
       " <BarContainer object of 10 artists>)"
      ]
     },
     "execution_count": 44,
     "metadata": {},
     "output_type": "execute_result"
    },
    {
     "data": {
      "image/png": "[encoded data removed]",
      "text/plain": [
       "<Figure size 640x480 with 2 Axes>"
      ]
     },
     "metadata": {},
     "output_type": "display_data"
    }
   ],
   "source": [
    "fig, axs = plt.subplots(1, 2, sharey=True, tight_layout=True)\n",
    "# We can set the number of bins with the *bins* keyword argument.\n",
    "axs[0].hist(p0['count'], bins=10)\n",
    "axs[1].hist(p1['count'], bins=10)"
   ]
  },
  {
   "cell_type": "code",
   "execution_count": 51,
   "metadata": {},
   "outputs": [
    {
     "name": "stdout",
     "output_type": "stream",
     "text": [
      "0.07315004603115705\n"
     ]
    }
   ],
   "source": [
    "# can we see the problem now ?\n",
    "from scipy.stats import mannwhitneyu\n",
    "U1, p = mannwhitneyu(p0['count'].values, p1['count'].values, method='exact')\n",
    "print(p)"
   ]
  },
  {
   "cell_type": "markdown",
   "metadata": {},
   "source": [
    "it seems that we do not have enough statistical evident to calims than the number of photos is a determining factor in the popularity of the product"
   ]
  },
  {
   "cell_type": "code",
   "execution_count": null,
   "metadata": {},
   "outputs": [],
   "source": [
    "# let's merge some data\n",
    "products = pd.read_csv(os.path.join(PREPARED_DATA_FOLDER, 'products_prepared.csv'))\n",
    "products.head()"
   ]
  },
  {
   "cell_type": "code",
   "execution_count": null,
   "metadata": {},
   "outputs": [],
   "source": [
    "products_eval = pd.merge(left=products, right=products_count, how='inner', on='product_id')\n",
    "len(products_eval)"
   ]
  },
  {
   "cell_type": "code",
   "execution_count": null,
   "metadata": {},
   "outputs": [],
   "source": [
    "products_eval['product_photos_qty'].value_counts()\n",
    "products_eval['multiple_phots'] = (products_eval['product_photos_qty'] >= 3).astype(int)"
   ]
  },
  {
   "cell_type": "code",
   "execution_count": null,
   "metadata": {},
   "outputs": [],
   "source": [
    "import matplotlib.pyplot as plt\n",
    "\n",
    "products_eval.plot.hist(column='count', by='multiple_phots', figsize=(15, 10), bins=100)\n",
    "# products['product_photos_qty'].hist(bins=range(0, len(categories), 3), figsize=(15, 8))\n",
    "# plt.xticks(ticks=list(range(0, len(categories), 3)), rotation=90)\n",
    "# plt.xlabel('categories: mapped to numer1ical values')\n",
    "# plt.ylabel('frequencies')\n",
    "# plt.title('frequencies of product categories')\n",
    "plt.show()"
   ]
  },
  {
   "cell_type": "code",
   "execution_count": null,
   "metadata": {},
   "outputs": [],
   "source": [
    "# let's group the products by their categories and divide them further by their number of photos and decide whether the number of photos is somehow related to \n",
    "# populatiry of the product\n",
    "\n",
    "# let's consider the most popular product categories\n",
    "# product_categories = products_eval['product_category_name'].unique()\n",
    "cats = products_eval['product_category_name'].value_counts().index.tolist()"
   ]
  },
  {
   "cell_type": "code",
   "execution_count": null,
   "metadata": {},
   "outputs": [],
   "source": [
    "cat1_prod_eval = products_eval[products_eval['product_category_name'] == cats[4]]\n",
    "cat1_prod_eval.plot.hist(column='count', by='multiple_phots', figsize=(15, 10), bins=100)\n",
    "# products['product_photos_qty'].hist(bins=range(0, len(categories), 3), figsize=(15, 8))\n",
    "# plt.xticks(ticks=list(range(0, len(categories), 3)), rotation=90)\n",
    "# plt.xlabel('categories: mapped to numer1ical values')\n",
    "# plt.ylabel('frequencies')\n",
    "# plt.title('frequencies of product categories')\n",
    "plt.show()"
   ]
  },
  {
   "cell_type": "markdown",
   "metadata": {},
   "source": [
    "According to the visualizations, we have little to no evidence to consider a difference in popularity between products with 2 or 1 pictures and those with multiple"
   ]
  },
  {
   "cell_type": "markdown",
   "metadata": {},
   "source": [
    "# Products and description"
   ]
  },
  {
   "cell_type": "code",
   "execution_count": null,
   "metadata": {},
   "outputs": [],
   "source": [
    "# let's have a simple scatter plot\n",
    "plt.scatter(x=products_eval['product_description_lenght'], y=products_eval['count'])\n",
    "plt.show()"
   ]
  }
 ],
 "metadata": {
  "kernelspec": {
   "display_name": "env",
   "language": "python",
   "name": "python3"
  },
  "language_info": {
   "codemirror_mode": {
    "name": "ipython",
    "version": 3
   },
   "file_extension": ".py",
   "mimetype": "text/x-python",
   "name": "python",
   "nbconvert_exporter": "python",
   "pygments_lexer": "ipython3",
   "version": "3.10.9"
  }
 },
 "nbformat": 4,
 "nbformat_minor": 2
}
